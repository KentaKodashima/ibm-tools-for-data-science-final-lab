{
 "cells": [
  {
   "cell_type": "markdown",
   "id": "69e6e313-b83e-46dd-bccc-ca349e4ef2e5",
   "metadata": {},
   "source": [
    "# Data Science Tools and Ecosystem"
   ]
  },
  {
   "cell_type": "markdown",
   "id": "61548b2f-20a6-4940-9caf-f8e5b8554773",
   "metadata": {},
   "source": [
    "## Author\n",
    "Kenta Kodashima"
   ]
  },
  {
   "cell_type": "markdown",
   "id": "259e53d4-ac03-4228-9c2c-f04fdab15d80",
   "metadata": {},
   "source": [
    "In this notebook, Data Science Tools and Ecosystem are summarized."
   ]
  },
  {
   "cell_type": "markdown",
   "id": "0f4f70d5-7092-4784-a2dd-3fda129eca26",
   "metadata": {},
   "source": [
    "Objectives:\n",
    "* List some of the popular languages that Data Scientists use\n",
    "* List some of the commonly used libraries used by Data Scientists\n",
    "* Show some examples of evaluating arithmetic expressions in Python"
   ]
  },
  {
   "cell_type": "markdown",
   "id": "5a48256a-bacf-4a43-b007-b735c9456d61",
   "metadata": {},
   "source": [
    "Some of the popular languages that Data Scientists use are:\n",
    "1. Python\n",
    "2. R\n",
    "3. SQL"
   ]
  },
  {
   "cell_type": "markdown",
   "id": "0eb18acf-b8fc-4e63-9be3-25f6148f6f2a",
   "metadata": {},
   "source": [
    "Some of the commonly used libraries used by Data Scientists include:\n",
    "1. Tensorflow\n",
    "2. Pandas\n",
    "3. Numpy"
   ]
  },
  {
   "cell_type": "markdown",
   "id": "6aef3a3b-c31e-44c1-a154-612eba041b43",
   "metadata": {},
   "source": [
    "| Data Science Tools |\n",
    "| -------- |\n",
    "| JupyterLab |\n",
    "| Google Colab |\n",
    "| Spyder |"
   ]
  },
  {
   "cell_type": "markdown",
   "id": "f9dc248b-9e11-4559-af30-d6195cdb84b6",
   "metadata": {},
   "source": [
    "### Below are a few examples of evaluating arithmetic expressions in Python"
   ]
  },
  {
   "cell_type": "code",
   "execution_count": 1,
   "id": "e3c515f9-2fd2-4412-b1e7-fb5ac090405f",
   "metadata": {
    "tags": []
   },
   "outputs": [
    {
     "data": {
      "text/plain": [
       "17"
      ]
     },
     "execution_count": 1,
     "metadata": {},
     "output_type": "execute_result"
    }
   ],
   "source": [
    "# This a simple arithmetic expression to mutiply then add integers\n",
    "(3*4)+5"
   ]
  },
  {
   "cell_type": "code",
   "execution_count": 2,
   "id": "1309bd8f-3fb4-42fb-8636-e9c89f1d8c2f",
   "metadata": {
    "tags": []
   },
   "outputs": [
    {
     "data": {
      "text/plain": [
       "3.3333333333333335"
      ]
     },
     "execution_count": 2,
     "metadata": {},
     "output_type": "execute_result"
    }
   ],
   "source": [
    "# This will convert 200 minutes to hours by diving by 60\n",
    "200 / 60"
   ]
  }
 ],
 "metadata": {
  "kernelspec": {
   "display_name": "Python",
   "language": "python",
   "name": "conda-env-python-py"
  },
  "language_info": {
   "codemirror_mode": {
    "name": "ipython",
    "version": 3
   },
   "file_extension": ".py",
   "mimetype": "text/x-python",
   "name": "python",
   "nbconvert_exporter": "python",
   "pygments_lexer": "ipython3",
   "version": "3.7.12"
  }
 },
 "nbformat": 4,
 "nbformat_minor": 5
}
